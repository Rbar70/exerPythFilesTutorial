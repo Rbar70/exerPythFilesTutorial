{
    "cells": [
        {
            "cell_type": "code",
            "execution_count": 12,
            "source": [
                "f= open(\"TEXT.txt\",\"w+\")"
            ],
            "outputs": [],
            "metadata": {}
        },
        {
            "cell_type": "code",
            "execution_count": 13,
            "source": [
                "print(f.name)"
            ],
            "outputs": [
                {
                    "output_type": "stream",
                    "name": "stdout",
                    "text": [
                        "TEXT.txt\n"
                    ]
                }
            ],
            "metadata": {}
        },
        {
            "cell_type": "code",
            "execution_count": 14,
            "source": [
                "print(f.mode)"
            ],
            "outputs": [
                {
                    "output_type": "stream",
                    "name": "stdout",
                    "text": [
                        "w+\n"
                    ]
                }
            ],
            "metadata": {}
        },
        {
            "cell_type": "code",
            "execution_count": 15,
            "source": [
                "f.close()"
            ],
            "outputs": [],
            "metadata": {}
        },
        {
            "cell_type": "code",
            "execution_count": 24,
            "source": [
                "with open(\"TEXT.txt\",\"r\") as f:\r\n",
                "    f_contents = f.read()\r\n",
                "    print(f_contents)\r\n",
                "    pass"
            ],
            "outputs": [
                {
                    "output_type": "stream",
                    "name": "stdout",
                    "text": [
                        "Robert\n",
                        "Was\n",
                        "Here\n"
                    ]
                }
            ],
            "metadata": {}
        },
        {
            "cell_type": "code",
            "execution_count": 26,
            "source": [
                "with open(\"TEXT.txt\",\"r\") as f:\r\n",
                "    f_contents = f.readline()\r\n",
                "    print(f_contents)\r\n",
                "\r\n",
                "    f_contents = f.readline()\r\n",
                "    print(f_contents, end =\" \")\r\n",
                "    pass"
            ],
            "outputs": [
                {
                    "output_type": "stream",
                    "name": "stdout",
                    "text": [
                        "Robert\n",
                        "\n",
                        "Was\n",
                        " "
                    ]
                }
            ],
            "metadata": {}
        },
        {
            "cell_type": "code",
            "execution_count": 30,
            "source": [
                "with open(\"TEXT.txt\",\"r\") as f:\r\n",
                "   for line in f:\r\n",
                "       print(line, end='')"
            ],
            "outputs": [
                {
                    "output_type": "stream",
                    "name": "stdout",
                    "text": [
                        "Robert\n",
                        "Was\n",
                        "Here"
                    ]
                }
            ],
            "metadata": {}
        },
        {
            "cell_type": "code",
            "execution_count": 31,
            "source": [
                "with open(\"TEXT.txt\",\"r\") as f:\r\n",
                "    f_contents = f.read(5)\r\n",
                "    print(f_contents, end=\"\")\r\n",
                "\r\n"
            ],
            "outputs": [
                {
                    "output_type": "stream",
                    "name": "stdout",
                    "text": [
                        "Rober"
                    ]
                }
            ],
            "metadata": {}
        },
        {
            "cell_type": "code",
            "execution_count": 35,
            "source": [
                "with open(\"TEXT.txt\",\"r\") as f:\r\n",
                "    f_contents = f.read(5)\r\n",
                "    print(f_contents, end=\"\")\r\n",
                "\r\n",
                "    f_contents = f.read(4)\r\n",
                "    print(f_contents, end=\"\")"
            ],
            "outputs": [
                {
                    "output_type": "stream",
                    "name": "stdout",
                    "text": [
                        "Robert\n",
                        "Wa"
                    ]
                }
            ],
            "metadata": {}
        },
        {
            "cell_type": "code",
            "execution_count": 36,
            "source": [
                "with open(\"TEXT.txt\",\"r\") as f:\r\n",
                "\r\n",
                "    size_to_read = 5\r\n",
                "    f_contents = f.read(size_to_read)\r\n",
                "    print(f_contents, end=\"\")\r\n",
                "\r\n",
                "    while len (f_contents) > 0:\r\n",
                "        print(f_contents, end=\"\")\r\n",
                "        f_contents = f.read (size_to_read)\r\n"
            ],
            "outputs": [
                {
                    "output_type": "stream",
                    "name": "stdout",
                    "text": [
                        "RoberRobert\n",
                        "Was\n",
                        "Here"
                    ]
                }
            ],
            "metadata": {}
        },
        {
            "cell_type": "code",
            "execution_count": 57,
            "source": [
                "with open(\"TEXT.txt\",\"r\") as f:\r\n",
                "\r\n",
                "    size_to_read = 1\r\n",
                "    f_contents = f.read(size_to_read)\r\n",
                "    \r\n",
                "    while len (f_contents) > 0:\r\n",
                "        print(f_contents, end='*')\r\n",
                "        f_contents = f.read (size_to_read)"
            ],
            "outputs": [
                {
                    "output_type": "stream",
                    "name": "stdout",
                    "text": [
                        "R*o*b*e*r*t*\n",
                        "*W*a*s*\n",
                        "*H*e*r*e*"
                    ]
                }
            ],
            "metadata": {}
        },
        {
            "cell_type": "code",
            "execution_count": 58,
            "source": [
                "with open(\"TEXT.txt\",\"r\") as f:\r\n",
                "\r\n",
                "    size_to_read = 10\r\n",
                "    f_contents = f.read(size_to_read)\r\n",
                "  \r\n",
                "    while len (f_contents) > 0:\r\n",
                "        print(f_contents, end='*')\r\n",
                "        f_contents = f.read (size_to_read)"
            ],
            "outputs": [
                {
                    "output_type": "stream",
                    "name": "stdout",
                    "text": [
                        "Robert\n",
                        "Was*\n",
                        "Here*"
                    ]
                }
            ],
            "metadata": {}
        },
        {
            "cell_type": "code",
            "execution_count": 61,
            "source": [
                "with open(\"TEXT.txt\",\"r\") as f:\r\n",
                "\r\n",
                "    size_to_read = 9\r\n",
                "    f_contents = f.read(size_to_read)\r\n",
                "         \r\n",
                "    print(f.tell())\r\n",
                "\r\n",
                "   "
            ],
            "outputs": [
                {
                    "output_type": "stream",
                    "name": "stdout",
                    "text": [
                        "10\n"
                    ]
                }
            ],
            "metadata": {}
        },
        {
            "cell_type": "code",
            "execution_count": 62,
            "source": [
                "with open(\"TEXT.txt\",\"r\") as f:\r\n",
                "\r\n",
                "    size_to_read = 9\r\n",
                "    \r\n",
                "    f_contents = f.read(size_to_read)\r\n",
                "    print(f_contents, end='')\r\n",
                "    \r\n",
                "    f.seek(0)\r\n",
                "    \r\n",
                "    f_contents = f.read(size_to_read)\r\n",
                "    print(f_contents)\r\n",
                "\r\n",
                "\r\n",
                "   "
            ],
            "outputs": [
                {
                    "output_type": "stream",
                    "name": "stdout",
                    "text": [
                        "Robert\n",
                        "WaRobert\n",
                        "Wa\n"
                    ]
                }
            ],
            "metadata": {}
        },
        {
            "cell_type": "code",
            "execution_count": 63,
            "source": [
                "with open(\"TEXT.txt\",\"r\") as f:\r\n",
                "\r\n",
                "    size_to_read = 9\r\n",
                "    \r\n",
                "    f_contents = f.read(size_to_read)\r\n",
                "    print(f_contents, end='')\r\n",
                "    \r\n",
                "    f.seek(4)\r\n",
                "    \r\n",
                "    f_contents = f.read(size_to_read)\r\n",
                "    print(f_contents)\r\n",
                "\r\n",
                "\r\n",
                "   "
            ],
            "outputs": [
                {
                    "output_type": "stream",
                    "name": "stdout",
                    "text": [
                        "Robert\n",
                        "Wart\n",
                        "Was\n",
                        "He\n"
                    ]
                }
            ],
            "metadata": {}
        },
        {
            "cell_type": "code",
            "execution_count": 65,
            "source": [
                "with open('test2.txt', 'w') as f:\r\n",
                "    f.write('test2')\r\n",
                "    f.write(' robert did this')"
            ],
            "outputs": [],
            "metadata": {}
        },
        {
            "cell_type": "code",
            "execution_count": null,
            "source": [
                "f.write(test2.txt)"
            ],
            "outputs": [],
            "metadata": {}
        },
        {
            "cell_type": "code",
            "execution_count": 68,
            "source": [
                "with open('hw.jpg', 'rb') as rf:\r\n",
                "    with open('hw_copy.txt', 'wb') as wf:\r\n",
                "        for line in rf:\r\n",
                "            wf.write(line)"
            ],
            "outputs": [],
            "metadata": {}
        },
        {
            "cell_type": "code",
            "execution_count": 69,
            "source": [
                "with open('hw.jpg', 'rb') as rf:\r\n",
                "    with open('hw_copy2.txt', 'wb') as wf:\r\n",
                "        chunk_size = 401\r\n",
                "        rf_chunk = rf.read(chunk_size)\r\n",
                "        while len(rf_chunk) > 0:\r\n",
                "            wf.write(rf_chunk)\r\n",
                "            rf_chunk = rf.read(chunk_size)"
            ],
            "outputs": [],
            "metadata": {}
        }
    ],
    "metadata": {
        "orig_nbformat": 4,
        "language_info": {
            "name": "python",
            "version": "3.8.8",
            "mimetype": "text/x-python",
            "codemirror_mode": {
                "name": "ipython",
                "version": 3
            },
            "pygments_lexer": "ipython3",
            "nbconvert_exporter": "python",
            "file_extension": ".py"
        },
        "kernelspec": {
            "name": "python3",
            "display_name": "Python 3.8.8 64-bit ('base': conda)"
        },
        "interpreter": {
            "hash": "b3ba2566441a7c06988d0923437866b63cedc61552a5af99d1f4fb67d367b25f"
        }
    },
    "nbformat": 4,
    "nbformat_minor": 2
}